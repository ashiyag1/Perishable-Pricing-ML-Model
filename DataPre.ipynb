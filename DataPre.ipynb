{
 "cells": [
  {
   "cell_type": "code",
   "execution_count": 1,
   "id": "962263e3-b795-4c6b-9537-0d64538d6df0",
   "metadata": {},
   "outputs": [
    {
     "data": {
      "text/plain": [
       "(    Product_ID     Product_Name             Catagory  Supplier_ID  \\\n",
       " 0  29-205-1132       Sushi Rice      Grains & Pulses  38-037-1699   \n",
       " 1  40-681-9981   Arabica Coffee            Beverages  54-470-2479   \n",
       " 2  06-955-3428       Black Rice      Grains & Pulses  54-031-2945   \n",
       " 3  71-594-6552  Long Grain Rice      Grains & Pulses  63-492-7603   \n",
       " 4  57-437-1828             Plum  Fruits & Vegetables  54-226-4308   \n",
       " \n",
       "   Supplier_Name  Stock_Quantity  Reorder_Level  Reorder_Quantity Unit_Price  \\\n",
       " 0     Jaxnation              22             72                70     $4.50    \n",
       " 1       Feedmix              45             77                 2    $20.00    \n",
       " 2        Vinder              30             38                83     $6.00    \n",
       " 3    Brightbean              12             59                62     $1.50    \n",
       " 4    Topicstorm              37             30                74     $4.00    \n",
       " \n",
       "   Date_Received Last_Order_Date Expiration_Date      Warehouse_Location  \\\n",
       " 0     8/16/2024       6/29/2024       9/19/2024        48 Del Sol Trail   \n",
       " 1     11/1/2024       5/29/2024        5/8/2024            36 3rd Place   \n",
       " 2      8/3/2024       6/10/2024       9/22/2024       3296 Walton Court   \n",
       " 3     12/8/2024       2/19/2025       4/17/2024  3 Westerfield Crossing   \n",
       " 4      7/3/2024      10/11/2024       10/5/2024    15068 Scoville Court   \n",
       " \n",
       "    Sales_Volume  Inventory_Turnover_Rate        Status  \n",
       " 0            32                       19  Discontinued  \n",
       " 1            85                        1  Discontinued  \n",
       " 2            31                       34   Backordered  \n",
       " 3            95                       99        Active  \n",
       " 4            62                       25   Backordered  ,\n",
       " Index(['Product_ID', 'Product_Name', 'Catagory', 'Supplier_ID',\n",
       "        'Supplier_Name', 'Stock_Quantity', 'Reorder_Level', 'Reorder_Quantity',\n",
       "        'Unit_Price', 'Date_Received', 'Last_Order_Date', 'Expiration_Date',\n",
       "        'Warehouse_Location', 'Sales_Volume', 'Inventory_Turnover_Rate',\n",
       "        'Status'],\n",
       "       dtype='object'))"
      ]
     },
     "execution_count": 1,
     "metadata": {},
     "output_type": "execute_result"
    }
   ],
   "source": [
    "# Re-import necessary libraries after code execution environment reset\n",
    "import pandas as pd\n",
    "\n",
    "# Load the uploaded CSV file again\n",
    "file_path = \"C:/Users/Ashiya Garg/Downloads/Grocery_Inventory_and_Sales_Dataset.csv\"\n",
    "df = pd.read_csv(file_path)\n",
    "\n",
    "# Display the first few rows and column names\n",
    "df.head(), df.columns\n"
   ]
  },
  {
   "cell_type": "code",
   "execution_count": null,
   "id": "4bfb8d98-59fd-4a71-bdcc-a89831b2b3ed",
   "metadata": {},
   "outputs": [],
   "source": []
  }
 ],
 "metadata": {
  "kernelspec": {
   "display_name": "Python 3 (ipykernel)",
   "language": "python",
   "name": "python3"
  },
  "language_info": {
   "codemirror_mode": {
    "name": "ipython",
    "version": 3
   },
   "file_extension": ".py",
   "mimetype": "text/x-python",
   "name": "python",
   "nbconvert_exporter": "python",
   "pygments_lexer": "ipython3",
   "version": "3.13.5"
  }
 },
 "nbformat": 4,
 "nbformat_minor": 5
}
